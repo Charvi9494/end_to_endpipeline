{
 "cells": [
  {
   "cell_type": "code",
   "execution_count": 0,
   "metadata": {
    "application/vnd.databricks.v1+cell": {
     "cellMetadata": {
      "byteLimit": 2048000,
      "rowLimit": 10000
     },
     "inputWidgets": {},
     "nuid": "6a48838a-666f-4489-8a2d-f2db67cbf412",
     "showTitle": false,
     "tableResultSettingsMap": {},
     "title": ""
    }
   },
   "outputs": [],
   "source": [
    "from pyspark.sql.functions import *\n",
    "from loguru import logger"
   ]
  },
  {
   "cell_type": "code",
   "execution_count": 0,
   "metadata": {
    "application/vnd.databricks.v1+cell": {
     "cellMetadata": {
      "byteLimit": 2048000,
      "rowLimit": 10000
     },
     "inputWidgets": {},
     "nuid": "d1495b21-fc1a-4123-8370-12c98e6634a2",
     "showTitle": false,
     "tableResultSettingsMap": {},
     "title": ""
    }
   },
   "outputs": [],
   "source": [
    "dbutils.widgets.text(\"Mode\",\"\")\n",
    "dbutils.widgets.text(\"processed_Path\",\"\")"
   ]
  },
  {
   "cell_type": "code",
   "execution_count": 0,
   "metadata": {
    "application/vnd.databricks.v1+cell": {
     "cellMetadata": {
      "byteLimit": 2048000,
      "rowLimit": 10000
     },
     "inputWidgets": {},
     "nuid": "adb8fc6c-7688-4b8e-a68e-28b62dc2a3d6",
     "showTitle": false,
     "tableResultSettingsMap": {},
     "title": ""
    }
   },
   "outputs": [],
   "source": [
    "mode=dbutils.widgets.get(\"Mode\")\n",
    "processed_Path=dbutils.widgets.get(\"processed_Path\")"
   ]
  },
  {
   "cell_type": "code",
   "execution_count": 0,
   "metadata": {
    "application/vnd.databricks.v1+cell": {
     "cellMetadata": {
      "byteLimit": 2048000,
      "rowLimit": 10000
     },
     "inputWidgets": {},
     "nuid": "6498479f-bc54-4a77-96a6-2c5e8077729d",
     "showTitle": false,
     "tableResultSettingsMap": {},
     "title": ""
    }
   },
   "outputs": [],
   "source": [
    "class fact_quality_material_movement:\n",
    "    def __init__(self):\n",
    "        pass\n",
    "\n",
    "    def transform_invoke(self):\n",
    "        logger.info(\"Reading tables from cur database\")\n",
    "        df_mseg = sql(\"SELECT * FROM cur.mseg\")\n",
    "        df_mkpf = sql(\"SELECT * FROM cur.mkpf\")\n",
    "\n",
    "        logger.info(\"Joining mkpf and mseg on MBLNR and MJAHR\")\n",
    "        df_joined = df_mkpf.join(\n",
    "            df_mseg,\n",
    "            (col(\"mkpf.MBLNR\") == col(\"mseg.MBLNR\")) & (col(\"mkpf.MJAHR\") == col(\"mseg.MJAHR\")),\n",
    "            how=\"left\"\n",
    "        )\n",
    "\n",
    "        logger.info(\"Applying transformations and selecting required columns\")\n",
    "        df_transformed = df_joined.select(\n",
    "            col(\"mkpf.MBLNR\").alias(\"MATERIAL_DOC_NO\"),\n",
    "            col(\"mkpf.MJAHR\").alias(\"MATERIAL_DOC_YEAR\"),\n",
    "            col(\"mkpf.BUDAT\").alias(\"POSTING_DATE\"),\n",
    "            col(\"mkpf.CPUDT\").alias(\"ENTRY_DATE\"),\n",
    "            date_format(col(\"mkpf.CPUTM\"), \"HH:mm\").alias(\"ENTRY_TIME\"),\n",
    "            col(\"mkpf.USNAM\").alias(\"USERNAME\"),\n",
    "            col(\"mseg.ZEILE\").alias(\"MATERIAL_DOC_ITEM\"),\n",
    "            col(\"mseg.BWART\").alias(\"MOVEMENT_TYPE\"),\n",
    "            trim(col(\"mseg.MATNR\")).alias(\"MATERIAL_NO\"),\n",
    "            col(\"mseg.CHARG\").alias(\"BATCH_ID\"),\n",
    "            col(\"mseg.MENGE\").alias(\"QUANTITY\"),\n",
    "            col(\"mseg.DMBTR\").alias(\"AMOUNT_IN_LC\"),\n",
    "            col(\"mseg.LGORT\").alias(\"SENDER_STORAGE_LOCATION\"),\n",
    "            col(\"mseg.WERKS\").alias(\"SENDER_PLANT\"),\n",
    "            col(\"mseg.UMLGO\").alias(\"RECEIVING_STORAGE_LOCATION\"),\n",
    "            col(\"mseg.UMWRK\").alias(\"RECEIVING_PLANT\"),\n",
    "            trim(col(\"mseg.KUNNR\")).alias(\"CUSTOMER_ID\"),\n",
    "            col(\"mseg.FISTL\").alias(\"FUNDS_CENTER\"),\n",
    "            col(\"mseg.ERFME\").alias(\"UNIT_OF_ENTRY\"),\n",
    "            col(\"mseg.MAT_KDAUF\").alias(\"SALES_ORDER_NO\"),\n",
    "            col(\"mseg.MAT_KDPOS\").alias(\"SALES_ORDER_ITEM\"),\n",
    "            col(\"mseg.MAT_KDAUF\"),\n",
    "            col(\"mseg.MAT_KDPOS\"),\n",
    "        )\n",
    "\n",
    "        logger.info(\"Applying fallback logic for SALES_ORDER_NO and SALES_ORDER_ITEM\")\n",
    "        df_transformed = df_transformed.withColumn(\n",
    "            \"SALES_ORDER_NO\",\n",
    "            when(col(\"SALES_ORDER_NO\").isNull() | (col(\"SALES_ORDER_NO\") == \"\"), col(\"MAT_KDAUF\"))\n",
    "            .otherwise(col(\"SALES_ORDER_NO\"))\n",
    "        ).withColumn(\n",
    "            \"SALES_ORDER_ITEM\",\n",
    "            when((col(\"SALES_ORDER_ITEM\").isNull()) | (col(\"SALES_ORDER_ITEM\") == \"\") | (col(\"SALES_ORDER_ITEM\") == \"000000\"),\n",
    "                 col(\"MAT_KDPOS\")).otherwise(col(\"SALES_ORDER_ITEM\"))\n",
    "        ).drop(\"MAT_KDAUF\", \"MAT_KDPOS\")\n",
    "\n",
    "        final_df = df_transformed\n",
    "        logger.info(\"Transformation complete\")\n",
    "        return final_df\n"
   ]
  },
  {
   "cell_type": "code",
   "execution_count": 0,
   "metadata": {
    "application/vnd.databricks.v1+cell": {
     "cellMetadata": {
      "byteLimit": 2048000,
      "rowLimit": 10000
     },
     "inputWidgets": {},
     "nuid": "ef19bde9-de59-4e0a-a8a0-253293e0424a",
     "showTitle": false,
     "tableResultSettingsMap": {},
     "title": ""
    }
   },
   "outputs": [],
   "source": [
    "if __name__ == \"__main__\":\n",
    "    transformer = fact_quality_material_movement()\n",
    "    final_df= transformer.transform_invoke()\n"
   ]
  },
  {
   "cell_type": "code",
   "execution_count": 0,
   "metadata": {
    "application/vnd.databricks.v1+cell": {
     "cellMetadata": {},
     "inputWidgets": {},
     "nuid": "625cace0-63e0-4d22-ae83-6bf12395b732",
     "showTitle": false,
     "tableResultSettingsMap": {},
     "title": ""
    }
   },
   "outputs": [],
   "source": [
    "final_df.write.format(\"parquet\").mode(mode).save(processed_Path)"
   ]
  }
 ],
 "metadata": {
  "application/vnd.databricks.v1+notebook": {
   "computePreferences": null,
   "dashboards": [],
   "environmentMetadata": {
    "base_environment": "",
    "environment_version": "2"
   },
   "inputWidgetPreferences": null,
   "language": "python",
   "notebookMetadata": {
    "mostRecentlyExecutedCommandWithImplicitDF": {
     "commandId": 8889664075801103,
     "dataframes": [
      "_sqldf"
     ]
    },
    "pythonIndentUnit": 4
   },
   "notebookName": "(Clone) process_layer",
   "widgets": {
    "Mode": {
     "currentValue": "",
     "nuid": "4f2cadd8-93c8-4e76-a506-8e4d4040c814",
     "typedWidgetInfo": {
      "autoCreated": false,
      "defaultValue": "",
      "label": null,
      "name": "Mode",
      "options": {
       "widgetDisplayType": "Text",
       "validationRegex": null
      },
      "parameterDataType": "String"
     },
     "widgetInfo": {
      "widgetType": "text",
      "defaultValue": "",
      "label": null,
      "name": "Mode",
      "options": {
       "widgetType": "text",
       "autoCreated": null,
       "validationRegex": null
      }
     }
    },
    "processed_Path": {
     "currentValue": "",
     "nuid": "199ce8ed-4556-4432-8cbe-051ae04cf393",
     "typedWidgetInfo": {
      "autoCreated": false,
      "defaultValue": "",
      "label": null,
      "name": "processed_Path",
      "options": {
       "widgetDisplayType": "Text",
       "validationRegex": null
      },
      "parameterDataType": "String"
     },
     "widgetInfo": {
      "widgetType": "text",
      "defaultValue": "",
      "label": null,
      "name": "processed_Path",
      "options": {
       "widgetType": "text",
       "autoCreated": null,
       "validationRegex": null
      }
     }
    }
   }
  },
  "language_info": {
   "name": "python"
  }
 },
 "nbformat": 4,
 "nbformat_minor": 0
}
